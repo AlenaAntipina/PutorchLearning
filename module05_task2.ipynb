{
  "nbformat": 4,
  "nbformat_minor": 0,
  "metadata": {
    "colab": {
      "name": "module05_task2.ipynb",
      "provenance": [],
      "authorship_tag": "ABX9TyO7OK+ErWzMB76SI5mXhd4Q",
      "include_colab_link": true
    },
    "kernelspec": {
      "name": "python3",
      "display_name": "Python 3"
    },
    "language_info": {
      "name": "python"
    }
  },
  "cells": [
    {
      "cell_type": "markdown",
      "metadata": {
        "id": "view-in-github",
        "colab_type": "text"
      },
      "source": [
        "<a href=\"https://colab.research.google.com/github/AlenaAntipina/PytorchLearning/blob/firstTest/module05_task2.ipynb\" target=\"_parent\"><img src=\"https://colab.research.google.com/assets/colab-badge.svg\" alt=\"Open In Colab\"/></a>"
      ]
    },
    {
      "cell_type": "code",
      "execution_count": 19,
      "metadata": {
        "colab": {
          "base_uri": "https://localhost:8080/"
        },
        "id": "TEqzM2NQafxw",
        "outputId": "d34d3d31-54f3-4068-a23c-e2b9076dcbd0"
      },
      "outputs": [
        {
          "output_type": "stream",
          "name": "stdout",
          "text": [
            "True\n"
          ]
        }
      ],
      "source": [
        "import torch\n",
        "import numpy as np\n",
        "\n",
        "\n",
        "def calc_out_shape(input_matrix_shape, out_channels, kernel_size, stride, padding):\n",
        "    out_shape = [input_matrix_shape[0], out_channels, \n",
        "                 (input_matrix_shape[2]-kernel_size+2*padding)//stride + 1,\n",
        "                 (input_matrix_shape[3]-kernel_size+2*padding)//stride + 1]\n",
        "\n",
        "    return out_shape\n",
        "\n",
        "print(np.array_equal(\n",
        "    calc_out_shape(input_matrix_shape=[2, 3, 10, 10],\n",
        "                   out_channels=10,\n",
        "                   kernel_size=3,\n",
        "                   stride=1,\n",
        "                   padding=0),\n",
        "    [2, 10, 8, 8]))\n",
        "\n",
        "# ... и ещё несколько подобных кейсов"
      ]
    }
  ]
}