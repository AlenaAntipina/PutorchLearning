{
  "nbformat": 4,
  "nbformat_minor": 0,
  "metadata": {
    "colab": {
      "name": "MyFirstNN_1.ipynb",
      "provenance": [],
      "authorship_tag": "ABX9TyOKa+WR1q8Gv3/MaKazmPiV",
      "include_colab_link": true
    },
    "kernelspec": {
      "name": "python3",
      "display_name": "Python 3"
    },
    "language_info": {
      "name": "python"
    }
  },
  "cells": [
    {
      "cell_type": "markdown",
      "metadata": {
        "id": "view-in-github",
        "colab_type": "text"
      },
      "source": [
        "<a href=\"https://colab.research.google.com/github/AlenaAntipina/PytorchLearning/blob/main/MyFirstNN_1.ipynb\" target=\"_parent\"><img src=\"https://colab.research.google.com/assets/colab-badge.svg\" alt=\"Open In Colab\"/></a>"
      ]
    },
    {
      "cell_type": "code",
      "execution_count": 1,
      "metadata": {
        "id": "fHoi1N0Ig5Tm"
      },
      "outputs": [],
      "source": [
        "import torch\n",
        "import matplotlib.pyplot as plt\n",
        "import matplotlib\n",
        "matplotlib.rcParams['figure.figsize'] = (13.0, 5.0)"
      ]
    },
    {
      "cell_type": "markdown",
      "source": [
        "Target function"
      ],
      "metadata": {
        "id": "fgHFoWTLkP9g"
      }
    },
    {
      "cell_type": "code",
      "source": [
        "def targt_function(x):\n",
        "  return 2**x * torch.sin(2**-x)"
      ],
      "metadata": {
        "id": "-zOuj5bUkSF9"
      },
      "execution_count": 20,
      "outputs": []
    },
    {
      "cell_type": "markdown",
      "source": [
        "Train dataset"
      ],
      "metadata": {
        "id": "5XgKaTOWhDM6"
      }
    },
    {
      "cell_type": "code",
      "source": [
        "x_train = torch.linspace(-10, 5, 100)\n",
        "y_train = targt_function(x_train)\n",
        "\n",
        "plt.plot(x_train.numpy(), y_train.numpy(), 'o')\n",
        "plt.title('$y = 2^x * sin(2^(-x))$');"
      ],
      "metadata": {
        "colab": {
          "base_uri": "https://localhost:8080/",
          "height": 285
        },
        "id": "b1xk2u8phHtW",
        "outputId": "cb90c142-cbf1-40f7-dad4-2239def97cc6"
      },
      "execution_count": 21,
      "outputs": [
        {
          "output_type": "display_data",
          "data": {
            "text/plain": [
              "<Figure size 432x288 with 1 Axes>"
            ],
            "image/png": "[encoded data removed]"
          },
          "metadata": {
            "needs_background": "light"
          }
        }
      ]
    },
    {
      "cell_type": "code",
      "source": [
        "noise = torch.randn(y_train.shape) / 20.\n",
        "\n",
        "plt.plot(x_train.numpy(), noise.numpy(), 'o')\n",
        "plt.axis([-10, 5, -0.3, 1])\n",
        "plt.title('Gaussian noise');"
      ],
      "metadata": {
        "colab": {
          "base_uri": "https://localhost:8080/",
          "height": 281
        },
        "id": "6vfsYPBehBKi",
        "outputId": "2e1c16b6-9fe3-4ecc-fb43-bcab6707dfbb"
      },
      "execution_count": 22,
      "outputs": [
        {
          "output_type": "display_data",
          "data": {
            "text/plain": [
              "<Figure size 432x288 with 1 Axes>"
            ],
            "image/png": "[encoded data removed]"
          },
          "metadata": {
            "needs_background": "light"
          }
        }
      ]
    },
    {
      "cell_type": "code",
      "source": [
        "y_train = y_train + noise\n",
        "plt.plot(x_train.numpy(), y_train.numpy(), 'o')\n",
        "plt.title('noisy sin(x)')\n",
        "plt.xlabel('x_train')\n",
        "plt.ylabel('y_train');"
      ],
      "metadata": {
        "colab": {
          "base_uri": "https://localhost:8080/",
          "height": 296
        },
        "id": "p7BOnSfthNfP",
        "outputId": "7c1acf1b-fe41-4103-e7eb-d8b1ca8df400"
      },
      "execution_count": 23,
      "outputs": [
        {
          "output_type": "display_data",
          "data": {
            "text/plain": [
              "<Figure size 432x288 with 1 Axes>"
            ],
            "image/png": "[encoded data removed]"
          },
          "metadata": {
            "needs_background": "light"
          }
        }
      ]
    },
    {
      "cell_type": "code",
      "source": [
        "x_train.unsqueeze_(1)\n",
        "y_train.unsqueeze_(1);"
      ],
      "metadata": {
        "id": "lh8CJVwzhSYt"
      },
      "execution_count": 24,
      "outputs": []
    },
    {
      "cell_type": "markdown",
      "source": [
        "Validation dataset"
      ],
      "metadata": {
        "id": "553zcqJ9jd16"
      }
    },
    {
      "cell_type": "code",
      "source": [
        "x_validation = torch.linspace(-10, 5, 100)\n",
        "y_validation = targt_function(x_validation)\n",
        "plt.plot(x_validation.numpy(), y_validation.numpy(), 'o')\n",
        "plt.title('sin(x)')\n",
        "plt.xlabel('x_validation')\n",
        "plt.ylabel('y_validation');"
      ],
      "metadata": {
        "colab": {
          "base_uri": "https://localhost:8080/",
          "height": 296
        },
        "id": "cOMClA4ejf7B",
        "outputId": "8823b6b9-d380-4943-e4a8-00cda53ce1d3"
      },
      "execution_count": 26,
      "outputs": [
        {
          "output_type": "display_data",
          "data": {
            "text/plain": [
              "<Figure size 432x288 with 1 Axes>"
            ],
            "image/png": "[encoded data removed]"
          },
          "metadata": {
            "needs_background": "light"
          }
        }
      ]
    },
    {
      "cell_type": "code",
      "source": [
        "x_validation.unsqueeze_(1)\n",
        "y_validation.unsqueeze_(1);"
      ],
      "metadata": {
        "id": "Mntd5XE7jiGV"
      },
      "execution_count": 27,
      "outputs": []
    },
    {
      "cell_type": "markdown",
      "source": [
        "Model Construction"
      ],
      "metadata": {
        "id": "4KBqLPtIjkJP"
      }
    },
    {
      "cell_type": "code",
      "source": [
        "class RegressionNet(torch.nn.Module):\n",
        "    def __init__(self, n_hidden_neurons):\n",
        "        super(RegressionNet, self).__init__()\n",
        "        self.fc1 = torch.nn.Linear(1, n_hidden_neurons)\n",
        "        self.act1 = torch.nn.Tanh()\n",
        "        self.fc2 = torch.nn.Linear(n_hidden_neurons, n_hidden_neurons)\n",
        "        self.act2 = torch.nn.Tanh()\n",
        "        self.fc3 = torch.nn.Linear(n_hidden_neurons, 1)\n",
        "\n",
        "    def forward(self, x):\n",
        "        x = self.fc1(x)\n",
        "        x = self.act1(x)\n",
        "        x = self.fc2(x)\n",
        "        x = self.act2(x)\n",
        "        x = self.fc3(x)\n",
        "        return x\n",
        "\n",
        "net = RegressionNet(20)"
      ],
      "metadata": {
        "id": "zH_NB-TDjmMD"
      },
      "execution_count": 87,
      "outputs": []
    },
    {
      "cell_type": "markdown",
      "source": [
        "Prediction"
      ],
      "metadata": {
        "id": "lcy98cvxjrLM"
      }
    },
    {
      "cell_type": "code",
      "source": [
        "def predict(net, x, y):\n",
        "    y_pred = net.forward(x)\n",
        "\n",
        "    plt.plot(x.numpy(), y.numpy(), 'o', label='Groud truth')\n",
        "    plt.plot(x.numpy(), y_pred.data.numpy(), 'o', c='r', label='Prediction');\n",
        "    plt.legend(loc='upper left')\n",
        "    plt.xlabel('$x$')\n",
        "    plt.ylabel('$y$')\n",
        "\n",
        "predict(net, x_validation, y_validation)"
      ],
      "metadata": {
        "colab": {
          "base_uri": "https://localhost:8080/",
          "height": 279
        },
        "id": "31N9LMsYjsry",
        "outputId": "98a82a2d-b8d8-4b41-f5e0-e9ad09cde5b3"
      },
      "execution_count": 88,
      "outputs": [
        {
          "output_type": "display_data",
          "data": {
            "text/plain": [
              "<Figure size 432x288 with 1 Axes>"
            ],
            "image/png": "[encoded data removed]"
          },
          "metadata": {
            "needs_background": "light"
          }
        }
      ]
    },
    {
      "cell_type": "markdown",
      "source": [
        "Optimizer"
      ],
      "metadata": {
        "id": "oWxTZBitjtrK"
      }
    },
    {
      "cell_type": "code",
      "source": [
        "optimizer = torch.optim.Adam(net.parameters(), lr=0.01)"
      ],
      "metadata": {
        "id": "Scol7xcBjuPm"
      },
      "execution_count": 89,
      "outputs": []
    },
    {
      "cell_type": "markdown",
      "source": [
        "Loss Function"
      ],
      "metadata": {
        "id": "s5U0VWYpjzYX"
      }
    },
    {
      "cell_type": "code",
      "source": [
        "def loss(pred, target):\n",
        "    modul = abs(pred - target)\n",
        "    return modul.mean()"
      ],
      "metadata": {
        "id": "NnWgZcIxj1Iz"
      },
      "execution_count": 90,
      "outputs": []
    },
    {
      "cell_type": "markdown",
      "source": [
        "Training Procedure"
      ],
      "metadata": {
        "id": "AwhtwjDej3yZ"
      }
    },
    {
      "cell_type": "code",
      "source": [
        "for epoch_index in range(2000):\n",
        "    optimizer.zero_grad()\n",
        "\n",
        "    y_pred = net.forward(x_train)\n",
        "    loss_val = loss(y_pred, y_train)\n",
        "\n",
        "    loss_val.backward()\n",
        "\n",
        "    optimizer.step()\n",
        "\n",
        "predict(net, x_validation, y_validation)"
      ],
      "metadata": {
        "colab": {
          "base_uri": "https://localhost:8080/",
          "height": 279
        },
        "id": "tdJVD2cxj5el",
        "outputId": "5eddec44-e6c1-43d2-c757-6ef4d408a30e"
      },
      "execution_count": 91,
      "outputs": [
        {
          "output_type": "display_data",
          "data": {
            "text/plain": [
              "<Figure size 432x288 with 1 Axes>"
            ],
            "image/png": "[encoded data removed]"
          },
          "metadata": {
            "needs_background": "light"
          }
        }
      ]
    },
    {
      "cell_type": "markdown",
      "source": [
        "Test"
      ],
      "metadata": {
        "id": "elDEz9WbnWpp"
      }
    },
    {
      "cell_type": "code",
      "source": [
        "def metric(pred, target):\n",
        "   return (pred - target).abs().mean()\n",
        "\n",
        "print(metric(net.forward(x_validation), y_validation).item())"
      ],
      "metadata": {
        "colab": {
          "base_uri": "https://localhost:8080/"
        },
        "id": "8nJ5LxY_nXgF",
        "outputId": "1836ec98-c9c4-4ac9-f32b-249e6ad8c119"
      },
      "execution_count": 92,
      "outputs": [
        {
          "output_type": "stream",
          "name": "stdout",
          "text": [
            "0.02088727243244648\n"
          ]
        }
      ]
    }
  ]
}