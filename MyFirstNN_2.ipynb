{
  "nbformat": 4,
  "nbformat_minor": 0,
  "metadata": {
    "colab": {
      "name": "MyFirstNN_2.ipynb",
      "provenance": [],
      "authorship_tag": "ABX9TyOssqF2LaestNwnKKW3QxHt",
      "include_colab_link": true
    },
    "kernelspec": {
      "name": "python3",
      "display_name": "Python 3"
    },
    "language_info": {
      "name": "python"
    }
  },
  "cells": [
    {
      "cell_type": "markdown",
      "metadata": {
        "id": "view-in-github",
        "colab_type": "text"
      },
      "source": [
        "<a href=\"https://colab.research.google.com/github/AlenaAntipina/PytorchLearning/blob/firstTest/MyFirstNN_2.ipynb\" target=\"_parent\"><img src=\"https://colab.research.google.com/assets/colab-badge.svg\" alt=\"Open In Colab\"/></a>"
      ]
    },
    {
      "cell_type": "code",
      "execution_count": 7,
      "metadata": {
        "colab": {
          "base_uri": "https://localhost:8080/"
        },
        "id": "KfEIdo8Anp9W",
        "outputId": "8118119d-8720-4079-ef78-65765ce29d22"
      },
      "outputs": [
        {
          "output_type": "stream",
          "name": "stdout",
          "text": [
            "0.02174803800880909\n"
          ]
        }
      ],
      "source": [
        "import torch\n",
        "import matplotlib.pyplot as plt\n",
        "import matplotlib\n",
        "\n",
        "def target_function(x):\n",
        "    return 2**x * torch.sin(2**-x)\n",
        "\n",
        "class RegressionNet(torch.nn.Module):\n",
        "    def __init__(self, n_hidden_neurons):\n",
        "        super(RegressionNet, self).__init__()\n",
        "        self.fc1 = torch.nn.Linear(1, n_hidden_neurons)\n",
        "        self.act1 = torch.nn.Sigmoid()\n",
        "        self.fc2 = torch.nn.Linear(n_hidden_neurons, 1)\n",
        "\n",
        "    def forward(self, x):\n",
        "        x = self.fc1(x)\n",
        "        x = self.act1(x)\n",
        "        x = self.fc2(x)\n",
        "        return x\n",
        "\n",
        "net = RegressionNet(50)\n",
        "\n",
        "# ------Dataset preparation start--------:\n",
        "x_train =  torch.linspace(-10, 5, 100)\n",
        "y_train = target_function(x_train)\n",
        "noise = torch.randn(y_train.shape) / 20.\n",
        "y_train = y_train + noise\n",
        "x_train.unsqueeze_(1)\n",
        "y_train.unsqueeze_(1)\n",
        "\n",
        "x_validation = torch.linspace(-10, 5, 100)\n",
        "y_validation = target_function(x_validation)\n",
        "x_validation.unsqueeze_(1)\n",
        "y_validation.unsqueeze_(1)\n",
        "# ------Dataset preparation end--------:\n",
        "\n",
        "\n",
        "optimizer = torch.optim.Adam(net.parameters(), lr=0.01)\n",
        "\n",
        "def loss(pred, target):\n",
        "    modul = abs(pred - target)\n",
        "    return modul.mean()\n",
        "\n",
        "for epoch_index in range(2000):\n",
        "    optimizer.zero_grad()\n",
        "\n",
        "    y_pred = net.forward(x_train)\n",
        "    loss_val = loss(y_pred, y_train)\n",
        "\n",
        "    loss_val.backward()\n",
        "\n",
        "    optimizer.step()\n",
        "    \n",
        "# Проверка осуществляется вызовом кода:\n",
        "def metric(pred, target):\n",
        "   return (pred - target).abs().mean()\n",
        "\n",
        "print(metric(net.forward(x_validation), y_validation).item())"
      ]
    }
  ]
}