{
  "nbformat": 4,
  "nbformat_minor": 0,
  "metadata": {
    "colab": {
      "name": "module05_svertka0.ipynb",
      "provenance": [],
      "authorship_tag": "ABX9TyNCzJWk7brNRBNRY0qMBxyl",
      "include_colab_link": true
    },
    "kernelspec": {
      "name": "python3",
      "display_name": "Python 3"
    },
    "language_info": {
      "name": "python"
    }
  },
  "cells": [
    {
      "cell_type": "markdown",
      "metadata": {
        "id": "view-in-github",
        "colab_type": "text"
      },
      "source": [
        "<a href=\"https://colab.research.google.com/github/AlenaAntipina/PytorchLearning/blob/firstTest/module05_svertka0.ipynb\" target=\"_parent\"><img src=\"https://colab.research.google.com/assets/colab-badge.svg\" alt=\"Open In Colab\"/></a>"
      ]
    },
    {
      "cell_type": "code",
      "execution_count": 1,
      "metadata": {
        "id": "y4xmjP4m5chs"
      },
      "outputs": [],
      "source": [
        "import torch\n",
        "from abc import ABC, abstractmethod"
      ]
    },
    {
      "cell_type": "code",
      "source": [
        "# абстрактный класс для сверточного слоя\n",
        "class ABCConv2d(ABC):\n",
        "    def __init__(self, in_channels, out_channels, kernel_size, stride):\n",
        "        self.in_channels = in_channels\n",
        "        self.out_channels = out_channels\n",
        "        self.kernel_size = kernel_size\n",
        "        self.stride = stride\n",
        "\n",
        "    def set_kernel(self, kernel):\n",
        "        self.kernel = kernel\n",
        "\n",
        "    @abstractmethod\n",
        "    def __call__(self, input_tensor):\n",
        "        pass"
      ],
      "metadata": {
        "id": "rGIGOGJK5qoM"
      },
      "execution_count": 2,
      "outputs": []
    },
    {
      "cell_type": "code",
      "source": [
        "# класс-обертка над torch.nn.Conv2d для унификации интерфейса\n",
        "class Conv2d(ABCConv2d):\n",
        "    def __init__(self, in_channels, out_channels, kernel_size, stride):\n",
        "        self.conv2d = torch.nn.Conv2d(in_channels, out_channels, kernel_size,\n",
        "                                      stride, padding=0, bias=False)\n",
        "\n",
        "    def set_kernel(self, kernel):\n",
        "        self.conv2d.weight.data = kernel\n",
        "\n",
        "    def __call__(self, input_tensor):\n",
        "        return self.conv2d(input_tensor)"
      ],
      "metadata": {
        "id": "940rW3rD5vpk"
      },
      "execution_count": 3,
      "outputs": []
    },
    {
      "cell_type": "code",
      "source": [
        "# функция, создающая объект класса cls и возвращающая свертку от input_matrix\n",
        "def create_and_call_conv2d_layer(conv2d_layer_class, stride, kernel, input_matrix):\n",
        "    out_channels = kernel.shape[0]\n",
        "    in_channels = kernel.shape[1]\n",
        "    kernel_size = kernel.shape[2]\n",
        "\n",
        "    layer = conv2d_layer_class(in_channels, out_channels, kernel_size, stride)\n",
        "    layer.set_kernel(kernel)\n",
        "\n",
        "    return layer(input_matrix)"
      ],
      "metadata": {
        "id": "nadUmwEs53TY"
      },
      "execution_count": 4,
      "outputs": []
    },
    {
      "cell_type": "code",
      "source": [
        "# Функция, тестирующая класс conv2d_cls.\n",
        "# Возвращает True, если свертка совпадает со сверткой с помощью torch.nn.Conv2d.\n",
        "def test_conv2d_layer(conv2d_layer_class, batch_size=2,\n",
        "                      input_height=4, input_width=4, stride=2):\n",
        "    kernel = torch.tensor(\n",
        "                      [[[[0., 1, 0],\n",
        "                         [1,  2, 1],\n",
        "                         [0,  1, 0]],\n",
        "\n",
        "                        [[1, 2, 1],\n",
        "                         [0, 3, 3],\n",
        "                         [0, 1, 10]],\n",
        "\n",
        "                        [[10, 11, 12],\n",
        "                         [13, 14, 15],\n",
        "                         [16, 17, 18]]]])\n",
        "\n",
        "    in_channels = kernel.shape[1]\n",
        "\n",
        "    input_tensor = torch.arange(0, batch_size * in_channels *\n",
        "                                input_height * input_width,\n",
        "                                out=torch.FloatTensor()) \\\n",
        "        .reshape(batch_size, in_channels, input_height, input_width)\n",
        "\n",
        "    custom_conv2d_out = create_and_call_conv2d_layer(\n",
        "        conv2d_layer_class, stride, kernel, input_tensor)\n",
        "    conv2d_out = create_and_call_conv2d_layer(\n",
        "        Conv2d, stride, kernel, input_tensor)\n",
        "\n",
        "    return torch.allclose(custom_conv2d_out, conv2d_out) \\\n",
        "              and (custom_conv2d_out.shape == conv2d_out.shape)\n",
        "\n",
        "print(test_conv2d_layer(Conv2d))"
      ],
      "metadata": {
        "colab": {
          "base_uri": "https://localhost:8080/"
        },
        "id": "a7NQa3sg56OB",
        "outputId": "9c0f6a28-4c38-49db-8693-63dec3857928"
      },
      "execution_count": 5,
      "outputs": [
        {
          "output_type": "stream",
          "name": "stdout",
          "text": [
            "True\n"
          ]
        }
      ]
    }
  ]
}